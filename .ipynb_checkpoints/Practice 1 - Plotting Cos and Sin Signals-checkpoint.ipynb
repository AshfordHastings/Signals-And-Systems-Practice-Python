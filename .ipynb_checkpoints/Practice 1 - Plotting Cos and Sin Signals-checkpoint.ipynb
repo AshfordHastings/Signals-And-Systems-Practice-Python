{
 "cells": [
  {
   "cell_type": "markdown",
   "metadata": {},
   "source": [
    "### Practice 1: Creating and Plotting Signals and Waves"
   ]
  },
  {
   "cell_type": "markdown",
   "metadata": {},
   "source": [
    "#### Creating classes for Cosine and Sine Wave"
   ]
  },
  {
   "cell_type": "raw",
   "metadata": {},
   "source": [
    "Class Diagram:\n",
    "    Signal\n",
    "        Sinusoid\n",
    "            CosSignal\n",
    "            SinSignal\n",
    "            \n",
    "    Wave (discrete time form of a signal)\n",
    "    Spectrum(frequency components of a Wave)\n",
    "    "
   ]
  },
  {
   "cell_type": "code",
   "execution_count": 6,
   "metadata": {},
   "outputs": [],
   "source": [
    "import numpy as np\n",
    "import matplotlib as plot\n",
    "import math\n",
    "import Audio from IPython.display"
   ]
  },
  {
   "cell_type": "code",
   "execution_count": 7,
   "metadata": {},
   "outputs": [],
   "source": [
    "class Signal:\n",
    "    def make_wave(self, duration=1, start=0, framerate=11025):\n",
    "        \"\"\"Makes a Wave object.\n",
    "\n",
    "        duration: float seconds\n",
    "        start: float seconds\n",
    "        framerate: int frames per second\n",
    "\n",
    "        returns: Wave\n",
    "        \"\"\"\n",
    "        n = round(duration * framerate)\n",
    "        ts = start + np.arange(n) / framerate\n",
    "        ys = self.evaluate(ts)\n",
    "        return Wave(ys, ts, framerate=framerate)"
   ]
  },
  {
   "cell_type": "code",
   "execution_count": 12,
   "metadata": {},
   "outputs": [],
   "source": [
    "class Sinusoid(Signal):\n",
    "    \"\"\"Represents sinusoidal signal\"\"\"\n",
    "    \n",
    "    def __init__(self, freq=11025, amp=1.0, offset=0, func):\n",
    "        self.freq = freq\n",
    "        self.amp = amp\n",
    "        self.offset = offset\n",
    "        self.func = func\n",
    "    \n",
    "    ##Get function\n",
    "    @property\n",
    "    def period(self):\n",
    "        return 1.0 / self.freq\n",
    "    \n",
    "    ## Evaluate - producing the signal from the properties\n",
    "    def evaluate(self, ts):\n",
    "        \"\"\"ts is a float array of times that would come from the Wave class\"\"\"\n",
    "        \"phase = 2*pi*f*t + offset\"\n",
    "        ts = np.asarray(ts)\n",
    "        phases = 2 * math.pi * self.freq * ts + self.offset\n",
    "        ys = self.amp * self.func(phases)\n",
    "        return ys"
   ]
  },
  {
   "cell_type": "code",
   "execution_count": 9,
   "metadata": {},
   "outputs": [],
   "source": [
    "def CosSignal(freq, amp=1.0, offset=0):\n",
    "    return Sinusoid(freq, amp, offset, func=np.cos)"
   ]
  },
  {
   "cell_type": "code",
   "execution_count": 10,
   "metadata": {},
   "outputs": [],
   "source": [
    "def SinSignal(freq, amp=1.0, offset=0):\n",
    "    return Sinusoid(freq, amp, offset, func=np.sin)"
   ]
  },
  {
   "cell_type": "code",
   "execution_count": 11,
   "metadata": {},
   "outputs": [],
   "source": [
    "class Wave:\n",
    "    \"\"\"Class is meant to take in a Signal and return a certain wave interval\"\"\"\n",
    "    def __init__(self, ys, ts=None, framerate=None):\n",
    "        self.ys = np.asanyarray(ys)\n",
    "        \"Initializes framerate default value\"\n",
    "        self.framerate = framerate if not None else 11025\n",
    "        if ts is None:\n",
    "            self.ts = np.arange(len(ys)) / self.framerate\n",
    "        else:\n",
    "            self.ts = np.asanyarray(ts)\n",
    "            \n",
    "    def plot(self, **options):\n",
    "        \"\"\"plots the real value of the Wave\"\"\"\n",
    "        \"\"\"**args passes a dictionary of arguments that maps to values - can be inserted into plot()\"\"\"\n",
    "        plt.plot(self.ts, np.real(self.ys), **options)\n",
    "    \n",
    "    def make_audio(self):\n",
    "        return Audio(data=self.ys.real, rate=self.framerate)"
   ]
  },
  {
   "cell_type": "markdown",
   "metadata": {},
   "source": [
    "### Create Sin and Cos Waves"
   ]
  },
  {
   "cell_type": "markdown",
   "metadata": {},
   "source": [
    "##### Make Sinusoid Signals"
   ]
  },
  {
   "cell_type": "code",
   "execution_count": null,
   "metadata": {},
   "outputs": [],
   "source": [
    "cosSignalOne = CosSignal(freq=11025)\n",
    "sinSignalOne = SinSignal(freq=11025)"
   ]
  },
  {
   "cell_type": "markdown",
   "metadata": {},
   "source": [
    "##### Make Sinusoid Waves"
   ]
  },
  {
   "cell_type": "code",
   "execution_count": null,
   "metadata": {
    "collapsed": true
   },
   "outputs": [],
   "source": []
  }
 ],
 "metadata": {
  "kernelspec": {
   "display_name": "Python 3",
   "language": "python",
   "name": "python3"
  },
  "language_info": {
   "codemirror_mode": {
    "name": "ipython",
    "version": 3
   },
   "file_extension": ".py",
   "mimetype": "text/x-python",
   "name": "python",
   "nbconvert_exporter": "python",
   "pygments_lexer": "ipython3",
   "version": "3.8.3"
  }
 },
 "nbformat": 4,
 "nbformat_minor": 4
}
